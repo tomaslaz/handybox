{
 "cells": [
  {
   "cell_type": "code",
   "execution_count": 1,
   "metadata": {},
   "outputs": [],
   "source": [
    "import torch\n",
    "import pyro\n",
    "import pyro.distributions as dist\n",
    "from pyro.infer import SVI, Trace_ELBO\n",
    "from pyro.optim import Adam"
   ]
  },
  {
   "cell_type": "code",
   "execution_count": 2,
   "metadata": {},
   "outputs": [
    {
     "name": "stdout",
     "output_type": "stream",
     "text": [
      "1.3.0.post2\n",
      "0.5.1\n"
     ]
    }
   ],
   "source": [
    "print(torch.__version__)\n",
    "print(pyro.__version__)"
   ]
  },
  {
   "cell_type": "code",
   "execution_count": 3,
   "metadata": {},
   "outputs": [],
   "source": [
    "pyro.enable_validation(True)\n",
    "pyro.clear_param_store()"
   ]
  },
  {
   "cell_type": "code",
   "execution_count": 4,
   "metadata": {},
   "outputs": [],
   "source": [
    "data = torch.cat((torch.zeros(9), torch.ones(7), torch.empty(4).fill_(2.)))"
   ]
  },
  {
   "cell_type": "code",
   "execution_count": 5,
   "metadata": {},
   "outputs": [
    {
     "data": {
      "text/plain": [
       "tensor([0., 0., 0., 0., 0., 0., 0., 0., 0., 1., 1., 1., 1., 1., 1., 1., 2., 2.,\n",
       "        2., 2.])"
      ]
     },
     "execution_count": 5,
     "metadata": {},
     "output_type": "execute_result"
    }
   ],
   "source": [
    "data"
   ]
  },
  {
   "cell_type": "code",
   "execution_count": 6,
   "metadata": {},
   "outputs": [],
   "source": [
    "def model(data):\n",
    "    alpha = torch.tensor(6.0)\n",
    "    beta = torch.tensor(10.0)\n",
    "    pay_probs = pyro.sample('pay_probs', dist.Beta(alpha, beta).expand([3]).independent(1))\n",
    "    normalized_pay_probs = pay_probs / torch.sum(pay_probs)\n",
    "    \n",
    "    for i in range(len(data)):\n",
    "        pyro.sample('obs_{%d}' % (i), dist.Categorical(probs=normalized_pay_probs), obs=data[i])"
   ]
  },
  {
   "cell_type": "code",
   "execution_count": 7,
   "metadata": {},
   "outputs": [],
   "source": [
    "def guide(data):\n",
    "    alphas = pyro.param('alphas', torch.tensor(6.).expand(3), constraint=constraints.positive)\n",
    "    betas = pyro.param('betas', torch.tensor(10.).expand(3), constraint=constraints.positive) \n",
    "\n",
    "    pyro.sample('pay_probs', dist.Beta(alphas, betas).independent(1))"
   ]
  },
  {
   "cell_type": "code",
   "execution_count": 8,
   "metadata": {},
   "outputs": [],
   "source": [
    "def print_progress():\n",
    "    alphas = pyro.param(\"alphas\")\n",
    "    betas = pyro.param(\"betas\")\n",
    "\n",
    "    if torch.cuda.is_available():\n",
    "        alphas.cuda()\n",
    "        betas.cuda()\n",
    "\n",
    "    means = alphas / (alphas + betas)\n",
    "    normalized_means = means / torch.sum(means)\n",
    "    factors = betas / (alphas * (1.0 + alphas + betas))\n",
    "    stdevs = normalized_means * torch.sqrt(factors)\n",
    "\n",
    "    tiger_pays_string = \"probability Tiger pays: {0:.3f} +/- {1:.2f}\".format(normalized_means[0], stdevs[0])\n",
    "    jason_pays_string = \"probability Jason pays: {0:.3f} +/- {1:.2f}\".format(normalized_means[1], stdevs[1])\n",
    "    james_pays_string = \"probability James pays: {0:.3f} +/- {1:.2f}\".format(normalized_means[2], stdevs[2])\n",
    "    print(\"[\", step, \"|\", tiger_pays_string, \"|\", jason_pays_string, \"|\", james_pays_string, \"]\")"
   ]
  },
  {
   "cell_type": "code",
   "execution_count": 9,
   "metadata": {},
   "outputs": [],
   "source": [
    "from torch.distributions import constraints"
   ]
  },
  {
   "cell_type": "code",
   "execution_count": 10,
   "metadata": {},
   "outputs": [
    {
     "name": "stdout",
     "output_type": "stream",
     "text": [
      "[ 0 | probability Tiger pays: 0.333 +/- 0.10 | probability Jason pays: 0.333 +/- 0.10 | probability James pays: 0.333 +/- 0.10 ]\n",
      "[ 100 | probability Tiger pays: 0.341 +/- 0.10 | probability Jason pays: 0.335 +/- 0.10 | probability James pays: 0.325 +/- 0.10 ]\n",
      "[ 200 | probability Tiger pays: 0.348 +/- 0.11 | probability Jason pays: 0.335 +/- 0.10 | probability James pays: 0.316 +/- 0.10 ]\n",
      "[ 300 | probability Tiger pays: 0.353 +/- 0.11 | probability Jason pays: 0.336 +/- 0.10 | probability James pays: 0.311 +/- 0.10 ]\n",
      "[ 400 | probability Tiger pays: 0.361 +/- 0.11 | probability Jason pays: 0.337 +/- 0.10 | probability James pays: 0.302 +/- 0.10 ]\n",
      "[ 500 | probability Tiger pays: 0.365 +/- 0.11 | probability Jason pays: 0.338 +/- 0.10 | probability James pays: 0.297 +/- 0.10 ]\n",
      "[ 600 | probability Tiger pays: 0.367 +/- 0.11 | probability Jason pays: 0.340 +/- 0.10 | probability James pays: 0.293 +/- 0.10 ]\n",
      "[ 700 | probability Tiger pays: 0.370 +/- 0.11 | probability Jason pays: 0.340 +/- 0.10 | probability James pays: 0.289 +/- 0.10 ]\n",
      "[ 800 | probability Tiger pays: 0.372 +/- 0.11 | probability Jason pays: 0.341 +/- 0.10 | probability James pays: 0.288 +/- 0.10 ]\n",
      "[ 900 | probability Tiger pays: 0.371 +/- 0.11 | probability Jason pays: 0.341 +/- 0.10 | probability James pays: 0.287 +/- 0.10 ]\n",
      "[ 1000 | probability Tiger pays: 0.376 +/- 0.11 | probability Jason pays: 0.340 +/- 0.10 | probability James pays: 0.284 +/- 0.10 ]\n",
      "[ 1100 | probability Tiger pays: 0.377 +/- 0.11 | probability Jason pays: 0.341 +/- 0.10 | probability James pays: 0.282 +/- 0.10 ]\n",
      "[ 1200 | probability Tiger pays: 0.376 +/- 0.11 | probability Jason pays: 0.340 +/- 0.10 | probability James pays: 0.284 +/- 0.10 ]\n",
      "[ 1300 | probability Tiger pays: 0.377 +/- 0.11 | probability Jason pays: 0.340 +/- 0.10 | probability James pays: 0.283 +/- 0.10 ]\n",
      "[ 1400 | probability Tiger pays: 0.378 +/- 0.11 | probability Jason pays: 0.340 +/- 0.10 | probability James pays: 0.282 +/- 0.10 ]\n",
      "[ 1500 | probability Tiger pays: 0.380 +/- 0.11 | probability Jason pays: 0.341 +/- 0.10 | probability James pays: 0.280 +/- 0.10 ]\n",
      "[ 1600 | probability Tiger pays: 0.381 +/- 0.11 | probability Jason pays: 0.341 +/- 0.10 | probability James pays: 0.279 +/- 0.10 ]\n",
      "[ 1700 | probability Tiger pays: 0.382 +/- 0.11 | probability Jason pays: 0.339 +/- 0.10 | probability James pays: 0.279 +/- 0.10 ]\n",
      "[ 1800 | probability Tiger pays: 0.382 +/- 0.11 | probability Jason pays: 0.337 +/- 0.10 | probability James pays: 0.281 +/- 0.10 ]\n",
      "[ 1900 | probability Tiger pays: 0.381 +/- 0.10 | probability Jason pays: 0.339 +/- 0.10 | probability James pays: 0.280 +/- 0.10 ]\n",
      "[ 2000 | probability Tiger pays: 0.383 +/- 0.10 | probability Jason pays: 0.338 +/- 0.10 | probability James pays: 0.279 +/- 0.10 ]\n",
      "[ 2100 | probability Tiger pays: 0.383 +/- 0.10 | probability Jason pays: 0.336 +/- 0.10 | probability James pays: 0.281 +/- 0.10 ]\n",
      "[ 2200 | probability Tiger pays: 0.382 +/- 0.10 | probability Jason pays: 0.337 +/- 0.10 | probability James pays: 0.280 +/- 0.10 ]\n",
      "[ 2300 | probability Tiger pays: 0.382 +/- 0.10 | probability Jason pays: 0.336 +/- 0.10 | probability James pays: 0.282 +/- 0.10 ]\n",
      "[ 2400 | probability Tiger pays: 0.380 +/- 0.10 | probability Jason pays: 0.338 +/- 0.10 | probability James pays: 0.282 +/- 0.10 ]\n",
      "[ 2500 | probability Tiger pays: 0.378 +/- 0.10 | probability Jason pays: 0.340 +/- 0.10 | probability James pays: 0.282 +/- 0.10 ]\n"
     ]
    }
   ],
   "source": [
    "pyro.clear_param_store()\n",
    "adam_params = {\"lr\": 0.0005}\n",
    "optimizer = Adam(adam_params)\n",
    "svi = SVI(model, guide, optimizer, loss=Trace_ELBO())\n",
    "\n",
    "n_steps = 2501\n",
    "for step in range(n_steps):\n",
    "    svi.step(data)\n",
    "    if step % 100 == 0:\n",
    "        print_progress()"
   ]
  }
 ],
 "metadata": {
  "kernelspec": {
   "display_name": "Python 3",
   "language": "python",
   "name": "python3"
  },
  "language_info": {
   "codemirror_mode": {
    "name": "ipython",
    "version": 3
   },
   "file_extension": ".py",
   "mimetype": "text/x-python",
   "name": "python",
   "nbconvert_exporter": "python",
   "pygments_lexer": "ipython3",
   "version": "3.7.4"
  }
 },
 "nbformat": 4,
 "nbformat_minor": 2
}
