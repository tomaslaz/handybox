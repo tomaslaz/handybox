{
 "cells": [
  {
   "cell_type": "code",
   "execution_count": 1,
   "metadata": {},
   "outputs": [
    {
     "data": {
      "text/html": [
       "<table style=\"border: 2px solid white;\">\n",
       "<tr>\n",
       "<td style=\"vertical-align: top; border: 0px solid white\">\n",
       "<h3>Client</h3>\n",
       "<ul>\n",
       "  <li><b>Scheduler: </b>tcp://127.0.0.1:51490\n",
       "</ul>\n",
       "</td>\n",
       "<td style=\"vertical-align: top; border: 0px solid white\">\n",
       "<h3>Cluster</h3>\n",
       "<ul>\n",
       "  <li><b>Workers: </b>4</li>\n",
       "  <li><b>Cores: </b>4</li>\n",
       "  <li><b>Memory: </b>34.36 GB</li>\n",
       "</ul>\n",
       "</td>\n",
       "</tr>\n",
       "</table>"
      ],
      "text/plain": [
       "<Client: scheduler='tcp://127.0.0.1:51490' processes=4 cores=4>"
      ]
     },
     "execution_count": 1,
     "metadata": {},
     "output_type": "execute_result"
    }
   ],
   "source": [
    "from dask.distributed import Client, progress\n",
    "client = Client(n_workers=4, threads_per_worker=1)\n",
    "client"
   ]
  },
  {
   "cell_type": "code",
   "execution_count": 3,
   "metadata": {},
   "outputs": [
    {
     "data": {
      "text/plain": [
       "['data/0.json',\n",
       " 'data/1.json',\n",
       " 'data/2.json',\n",
       " 'data/3.json',\n",
       " 'data/4.json',\n",
       " 'data/5.json',\n",
       " 'data/6.json',\n",
       " 'data/7.json',\n",
       " 'data/8.json',\n",
       " 'data/9.json']"
      ]
     },
     "execution_count": 3,
     "metadata": {},
     "output_type": "execute_result"
    }
   ],
   "source": [
    "import dask\n",
    "import json\n",
    "import os\n",
    "\n",
    "os.makedirs('data', exist_ok=True)              # Create data/ directory\n",
    "\n",
    "b = dask.datasets.make_people()                 # Make records of people\n",
    "b.map(json.dumps).to_textfiles('data/*.json')   # Encode as JSON, write to disk"
   ]
  },
  {
   "cell_type": "code",
   "execution_count": 4,
   "metadata": {},
   "outputs": [
    {
     "name": "stdout",
     "output_type": "stream",
     "text": [
      "{\"age\": 61, \"name\": [\"Danny\", \"Hebert\"], \"occupation\": \"Payroll Clerk\", \"telephone\": \"+1-(446)-705-7967\", \"address\": {\"address\": \"705 Crane Promenade\", \"city\": \"Hesperia\"}, \"credit-card\": {\"number\": \"3726 548771 90391\", \"expiration-date\": \"09/24\"}}\r\n",
      "{\"age\": 65, \"name\": [\"Reed\", \"Horn\"], \"occupation\": \"Theatre Technician\", \"telephone\": \"(297) 090-8128\", \"address\": {\"address\": \"543 Valdez Thruway\", \"city\": \"St. Joseph\"}, \"credit-card\": {\"number\": \"4690 1877 6875 3602\", \"expiration-date\": \"10/16\"}}\r\n"
     ]
    }
   ],
   "source": [
    "!head -n 2 data/0.json"
   ]
  },
  {
   "cell_type": "code",
   "execution_count": 5,
   "metadata": {},
   "outputs": [
    {
     "data": {
      "text/plain": [
       "dask.bag<loads-d..., npartitions=10>"
      ]
     },
     "execution_count": 5,
     "metadata": {},
     "output_type": "execute_result"
    }
   ],
   "source": [
    "import dask.bag as db\n",
    "import json\n",
    "\n",
    "b = db.read_text('data/*.json').map(json.loads)\n",
    "b"
   ]
  },
  {
   "cell_type": "code",
   "execution_count": 6,
   "metadata": {},
   "outputs": [
    {
     "data": {
      "text/plain": [
       "({'age': 61,\n",
       "  'name': ['Danny', 'Hebert'],\n",
       "  'occupation': 'Payroll Clerk',\n",
       "  'telephone': '+1-(446)-705-7967',\n",
       "  'address': {'address': '705 Crane Promenade', 'city': 'Hesperia'},\n",
       "  'credit-card': {'number': '3726 548771 90391', 'expiration-date': '09/24'}},\n",
       " {'age': 65,\n",
       "  'name': ['Reed', 'Horn'],\n",
       "  'occupation': 'Theatre Technician',\n",
       "  'telephone': '(297) 090-8128',\n",
       "  'address': {'address': '543 Valdez Thruway', 'city': 'St. Joseph'},\n",
       "  'credit-card': {'number': '4690 1877 6875 3602',\n",
       "   'expiration-date': '10/16'}})"
      ]
     },
     "execution_count": 6,
     "metadata": {},
     "output_type": "execute_result"
    }
   ],
   "source": [
    "b.take(2)"
   ]
  },
  {
   "cell_type": "code",
   "execution_count": 7,
   "metadata": {},
   "outputs": [
    {
     "data": {
      "text/plain": [
       "({'age': 61,\n",
       "  'name': ['Danny', 'Hebert'],\n",
       "  'occupation': 'Payroll Clerk',\n",
       "  'telephone': '+1-(446)-705-7967',\n",
       "  'address': {'address': '705 Crane Promenade', 'city': 'Hesperia'},\n",
       "  'credit-card': {'number': '3726 548771 90391', 'expiration-date': '09/24'}},\n",
       " {'age': 65,\n",
       "  'name': ['Reed', 'Horn'],\n",
       "  'occupation': 'Theatre Technician',\n",
       "  'telephone': '(297) 090-8128',\n",
       "  'address': {'address': '543 Valdez Thruway', 'city': 'St. Joseph'},\n",
       "  'credit-card': {'number': '4690 1877 6875 3602',\n",
       "   'expiration-date': '10/16'}})"
      ]
     },
     "execution_count": 7,
     "metadata": {},
     "output_type": "execute_result"
    }
   ],
   "source": [
    "b.filter(lambda record: record['age'] > 30).take(2)"
   ]
  },
  {
   "cell_type": "code",
   "execution_count": 8,
   "metadata": {},
   "outputs": [
    {
     "data": {
      "text/plain": [
       "('Payroll Clerk', 'Theatre Technician')"
      ]
     },
     "execution_count": 8,
     "metadata": {},
     "output_type": "execute_result"
    }
   ],
   "source": [
    "b.map(lambda record: record['occupation']).take(2)"
   ]
  },
  {
   "cell_type": "code",
   "execution_count": 9,
   "metadata": {},
   "outputs": [
    {
     "data": {
      "text/plain": [
       "10000"
      ]
     },
     "execution_count": 9,
     "metadata": {},
     "output_type": "execute_result"
    }
   ],
   "source": [
    "b.count().compute()"
   ]
  },
  {
   "cell_type": "code",
   "execution_count": 12,
   "metadata": {},
   "outputs": [
    {
     "data": {
      "text/plain": [
       "dask.bag<topk-ag..., npartitions=1>"
      ]
     },
     "execution_count": 12,
     "metadata": {},
     "output_type": "execute_result"
    }
   ],
   "source": [
    "result = (b.filter(lambda record: record['age'] > 30)\n",
    "           .map(lambda record: record['occupation'])\n",
    "           .frequencies(sort=True)\n",
    "           .topk(15, key=1))\n",
    "result"
   ]
  },
  {
   "cell_type": "code",
   "execution_count": 13,
   "metadata": {},
   "outputs": [
    {
     "data": {
      "text/plain": [
       "[('Transport Officer', 15),\n",
       " ('Medical Physicist', 14),\n",
       " ('Judge', 14),\n",
       " ('Loans Manager', 14),\n",
       " ('Garage Manager', 13),\n",
       " ('Sales Manager', 13),\n",
       " ('Public Relations Of?cer', 13),\n",
       " ('Careers Advisor', 13),\n",
       " ('Playgroup Leader', 13),\n",
       " ('Taxidermist', 12),\n",
       " ('Aircraft Designer', 12),\n",
       " ('Pool Attendant', 12),\n",
       " ('Actor', 12),\n",
       " ('Travel Agent', 12),\n",
       " ('Technical Assistant', 12)]"
      ]
     },
     "execution_count": 13,
     "metadata": {},
     "output_type": "execute_result"
    }
   ],
   "source": [
    "result.compute()"
   ]
  },
  {
   "cell_type": "code",
   "execution_count": 14,
   "metadata": {},
   "outputs": [
    {
     "data": {
      "text/plain": [
       "['data/processed.0.json',\n",
       " 'data/processed.1.json',\n",
       " 'data/processed.2.json',\n",
       " 'data/processed.3.json',\n",
       " 'data/processed.4.json',\n",
       " 'data/processed.5.json',\n",
       " 'data/processed.6.json',\n",
       " 'data/processed.7.json',\n",
       " 'data/processed.8.json',\n",
       " 'data/processed.9.json']"
      ]
     },
     "execution_count": 14,
     "metadata": {},
     "output_type": "execute_result"
    }
   ],
   "source": [
    "(b.filter(lambda record: record['age'] > 30)  # Select records of interest\n",
    "  .map(json.dumps)                            # Convert Python objects to text\n",
    "  .to_textfiles('data/processed.*.json'))     # Write to local disk\n"
   ]
  },
  {
   "cell_type": "code",
   "execution_count": 15,
   "metadata": {},
   "outputs": [
    {
     "data": {
      "text/plain": [
       "({'age': 61,\n",
       "  'name': ['Danny', 'Hebert'],\n",
       "  'occupation': 'Payroll Clerk',\n",
       "  'telephone': '+1-(446)-705-7967',\n",
       "  'address': {'address': '705 Crane Promenade', 'city': 'Hesperia'},\n",
       "  'credit-card': {'number': '3726 548771 90391', 'expiration-date': '09/24'}},)"
      ]
     },
     "execution_count": 15,
     "metadata": {},
     "output_type": "execute_result"
    }
   ],
   "source": [
    "b.take(1)"
   ]
  },
  {
   "cell_type": "code",
   "execution_count": 16,
   "metadata": {},
   "outputs": [
    {
     "data": {
      "text/plain": [
       "({'age': 61,\n",
       "  'occupation': 'Payroll Clerk',\n",
       "  'telephone': '+1-(446)-705-7967',\n",
       "  'credit-card-number': '3726 548771 90391',\n",
       "  'credit-card-expiration': '09/24',\n",
       "  'name': 'Danny Hebert',\n",
       "  'street-address': '705 Crane Promenade',\n",
       "  'city': 'Hesperia'},)"
      ]
     },
     "execution_count": 16,
     "metadata": {},
     "output_type": "execute_result"
    }
   ],
   "source": [
    "def flatten(record):\n",
    "    return {\n",
    "        'age': record['age'],\n",
    "        'occupation': record['occupation'],\n",
    "        'telephone': record['telephone'],\n",
    "        'credit-card-number': record['credit-card']['number'],\n",
    "        'credit-card-expiration': record['credit-card']['expiration-date'],\n",
    "        'name': ' '.join(record['name']),\n",
    "        'street-address': record['address']['address'],\n",
    "        'city': record['address']['city']\n",
    "    }\n",
    "\n",
    "b.map(flatten).take(1)"
   ]
  },
  {
   "cell_type": "code",
   "execution_count": 17,
   "metadata": {},
   "outputs": [
    {
     "data": {
      "text/html": [
       "<div>\n",
       "<style scoped>\n",
       "    .dataframe tbody tr th:only-of-type {\n",
       "        vertical-align: middle;\n",
       "    }\n",
       "\n",
       "    .dataframe tbody tr th {\n",
       "        vertical-align: top;\n",
       "    }\n",
       "\n",
       "    .dataframe thead th {\n",
       "        text-align: right;\n",
       "    }\n",
       "</style>\n",
       "<table border=\"1\" class=\"dataframe\">\n",
       "  <thead>\n",
       "    <tr style=\"text-align: right;\">\n",
       "      <th></th>\n",
       "      <th>age</th>\n",
       "      <th>city</th>\n",
       "      <th>credit-card-expiration</th>\n",
       "      <th>credit-card-number</th>\n",
       "      <th>name</th>\n",
       "      <th>occupation</th>\n",
       "      <th>street-address</th>\n",
       "      <th>telephone</th>\n",
       "    </tr>\n",
       "  </thead>\n",
       "  <tbody>\n",
       "    <tr>\n",
       "      <th>0</th>\n",
       "      <td>61</td>\n",
       "      <td>Hesperia</td>\n",
       "      <td>09/24</td>\n",
       "      <td>3726 548771 90391</td>\n",
       "      <td>Danny Hebert</td>\n",
       "      <td>Payroll Clerk</td>\n",
       "      <td>705 Crane Promenade</td>\n",
       "      <td>+1-(446)-705-7967</td>\n",
       "    </tr>\n",
       "    <tr>\n",
       "      <th>1</th>\n",
       "      <td>65</td>\n",
       "      <td>St. Joseph</td>\n",
       "      <td>10/16</td>\n",
       "      <td>4690 1877 6875 3602</td>\n",
       "      <td>Reed Horn</td>\n",
       "      <td>Theatre Technician</td>\n",
       "      <td>543 Valdez Thruway</td>\n",
       "      <td>(297) 090-8128</td>\n",
       "    </tr>\n",
       "    <tr>\n",
       "      <th>2</th>\n",
       "      <td>65</td>\n",
       "      <td>Fairhope</td>\n",
       "      <td>08/19</td>\n",
       "      <td>3414 746274 26567</td>\n",
       "      <td>Eldon Stanley</td>\n",
       "      <td>Taxidermist</td>\n",
       "      <td>980 Brooklyn Bay</td>\n",
       "      <td>1-949-426-0203</td>\n",
       "    </tr>\n",
       "    <tr>\n",
       "      <th>3</th>\n",
       "      <td>64</td>\n",
       "      <td>Grayslake</td>\n",
       "      <td>12/25</td>\n",
       "      <td>3703 305616 78130</td>\n",
       "      <td>Neida Ingram</td>\n",
       "      <td>Windscreen Fitter</td>\n",
       "      <td>1197 Tunnel Townline</td>\n",
       "      <td>979.626.8484</td>\n",
       "    </tr>\n",
       "    <tr>\n",
       "      <th>4</th>\n",
       "      <td>51</td>\n",
       "      <td>Trotwood</td>\n",
       "      <td>04/17</td>\n",
       "      <td>3447 873898 09457</td>\n",
       "      <td>Latoyia Swanson</td>\n",
       "      <td>Pest Controller</td>\n",
       "      <td>1381 Century Trail</td>\n",
       "      <td>(631) 561-7894</td>\n",
       "    </tr>\n",
       "  </tbody>\n",
       "</table>\n",
       "</div>"
      ],
      "text/plain": [
       "   age        city credit-card-expiration   credit-card-number  \\\n",
       "0   61    Hesperia                  09/24    3726 548771 90391   \n",
       "1   65  St. Joseph                  10/16  4690 1877 6875 3602   \n",
       "2   65    Fairhope                  08/19    3414 746274 26567   \n",
       "3   64   Grayslake                  12/25    3703 305616 78130   \n",
       "4   51    Trotwood                  04/17    3447 873898 09457   \n",
       "\n",
       "              name          occupation        street-address  \\\n",
       "0     Danny Hebert       Payroll Clerk   705 Crane Promenade   \n",
       "1        Reed Horn  Theatre Technician    543 Valdez Thruway   \n",
       "2    Eldon Stanley         Taxidermist      980 Brooklyn Bay   \n",
       "3     Neida Ingram   Windscreen Fitter  1197 Tunnel Townline   \n",
       "4  Latoyia Swanson     Pest Controller    1381 Century Trail   \n",
       "\n",
       "           telephone  \n",
       "0  +1-(446)-705-7967  \n",
       "1     (297) 090-8128  \n",
       "2     1-949-426-0203  \n",
       "3       979.626.8484  \n",
       "4     (631) 561-7894  "
      ]
     },
     "execution_count": 17,
     "metadata": {},
     "output_type": "execute_result"
    }
   ],
   "source": [
    "df = b.map(flatten).to_dataframe()\n",
    "df.head()"
   ]
  },
  {
   "cell_type": "code",
   "execution_count": null,
   "metadata": {},
   "outputs": [],
   "source": []
  }
 ],
 "metadata": {
  "kernelspec": {
   "display_name": "Python 3",
   "language": "python",
   "name": "python3"
  },
  "language_info": {
   "codemirror_mode": {
    "name": "ipython",
    "version": 3
   },
   "file_extension": ".py",
   "mimetype": "text/x-python",
   "name": "python",
   "nbconvert_exporter": "python",
   "pygments_lexer": "ipython3",
   "version": "3.7.3"
  }
 },
 "nbformat": 4,
 "nbformat_minor": 2
}
